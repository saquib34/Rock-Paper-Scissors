{
 "cells": [
  {
   "cell_type": "code",
   "execution_count": 4,
   "metadata": {},
   "outputs": [
    {
     "name": "stdout",
     "output_type": "stream",
     "text": [
      "WARNING:tensorflow:From c:\\Users\\shadm\\anaconda3\\Lib\\site-packages\\keras\\src\\losses.py:2976: The name tf.losses.sparse_softmax_cross_entropy is deprecated. Please use tf.compat.v1.losses.sparse_softmax_cross_entropy instead.\n",
      "\n"
     ]
    }
   ],
   "source": [
    "import cv2\n",
    "import cvzone\n",
    "from cvzone.HandTrackingModule import HandDetector\n",
    "import time\n",
    "import random\n"
   ]
  },
  {
   "cell_type": "code",
   "execution_count": 5,
   "metadata": {},
   "outputs": [],
   "source": [
    "cap=cv2.VideoCapture(0)\n",
    "cap.set(cv2.CAP_PROP_FRAME_WIDTH, 640)\n",
    "cap.set(cv2.CAP_PROP_FRAME_HEIGHT, 480)\n",
    "\n",
    "decto=HandDetector(maxHands=1)\n",
    "timer = 0\n",
    "stateResult=False\n",
    "startGame=False\n",
    "score =[0,0]  # [computer, player]"
   ]
  },
  {
   "cell_type": "code",
   "execution_count": 6,
   "metadata": {},
   "outputs": [
    {
     "name": "stderr",
     "output_type": "stream",
     "text": [
      "c:\\Users\\shadm\\anaconda3\\Lib\\site-packages\\google\\protobuf\\symbol_database.py:55: UserWarning: SymbolDatabase.GetPrototype() is deprecated. Please use message_factory.GetMessageClass() instead. SymbolDatabase.GetPrototype() will be removed soon.\n",
      "  warnings.warn('SymbolDatabase.GetPrototype() is deprecated. Please '\n"
     ]
    },
    {
     "name": "stdout",
     "output_type": "stream",
     "text": [
      "[1, 1, 0, 0, 0]\n",
      "[1, 0, 0, 0, 0]\n",
      "ROCK\n",
      "[0, 0, 0, 0, 0]\n",
      "Computer Win\n",
      "ROCK\n",
      "[0, 0, 0, 0, 0]\n",
      "[1, 1, 1, 0, 0]\n",
      "PAPER\n",
      "[1, 1, 1, 1, 1]\n",
      "Computer Win\n",
      "SCISSOR\n",
      "[0, 1, 1, 0, 0]\n",
      "SCISSOR\n",
      "[0, 1, 1, 0, 0]\n",
      "PAPER\n",
      "[1, 1, 1, 1, 1]\n"
     ]
    }
   ],
   "source": [
    "while True:\n",
    "    imgBG = cv2.imread('Resources/BG.png')\n",
    "    success, img = cap.read()\n",
    "    imgScaled = cv2.resize(img, (0, 0), None, 0.875, 0.875)\n",
    "    \n",
    "    imgScaled=imgScaled[:,80:480]\n",
    "    hands, img = decto.findHands(imgScaled)\n",
    "    if startGame:\n",
    "        if stateResult is False:\n",
    "            timer=time.time() -initTime\n",
    "            cv2.putText(imgBG, str(int(timer)), (605, 435), cv2.FONT_HERSHEY_PLAIN, 5, (255, 0, 0), 5)\n",
    "        if timer>3:\n",
    "            stateResult=True\n",
    "            timer=0\n",
    "            play=None\n",
    "            if hands:\n",
    "                hands=hands[0]\n",
    "                fingers=decto.fingersUp(hands)\n",
    "                if fingers==[0,0,0,0,0]:\n",
    "                    play=1\n",
    "                    print(\"ROCK\")\n",
    "                if fingers==[1,1,1,1,1]:\n",
    "                    play=2\n",
    "                    print(\"PAPER\")\n",
    "                if fingers==[0,1,1,0,0]:\n",
    "                    play=3\n",
    "                    print(\"SCISSOR\")\n",
    "                print(fingers)\n",
    "                rand=random.randint(1,3)\n",
    "\n",
    "                imgAI=cv2.imread(f'Resources/{rand}.png',cv2.IMREAD_UNCHANGED)\n",
    "                imgBG=cvzone.overlayPNG(imgBG, imgAI, (149, 310))\n",
    "\n",
    "                if (play==1 and rand==2) or (play==3 and rand==1) or (play==2 and rand==3):\n",
    "                    score[0]=score[0]+1\n",
    "                    print(\"Computer Win\")\n",
    "                elif (play==1 and rand==3) or (play==2 and rand==1) or (play==3 and rand==2):\n",
    "                    score[1]=score[1]+1\n",
    "                \n",
    "\n",
    "                \n",
    "                \n",
    "\n",
    "\n",
    "    imgBG[233:653, 795:1195] = imgScaled\n",
    "    if stateResult:\n",
    "         imgBG=cvzone.overlayPNG(imgBG, imgAI, (149, 310))    \n",
    "         cv2.putText(imgBG, str(score[0]), (410, 215), cv2.FONT_HERSHEY_PLAIN, 4, (255, 255, 255), 5)\n",
    "         cv2.putText(imgBG, str(score[1]), (1112, 215), cv2.FONT_HERSHEY_PLAIN, 4, (255, 255, 255), 5)\n",
    "\n",
    "    #cv2.imshow(\"Image\", img)\n",
    "    cv2.imshow(\"BG\", imgBG)\n",
    "    #cv2.imshow(\"Resie\", imgScaled)\n",
    "\n",
    "    key_=cv2.waitKey(1)\n",
    "    if key_==ord('s'):\n",
    "        startGame=True\n",
    "        initTime=time.time()\n",
    "        stateResult=False\n",
    "    elif key_ == ord('q'):  # Press 'q' to quit\n",
    "        break\n",
    "cv2.destroyAllWindows()\n",
    "cap.release()\n",
    "        \n"
   ]
  },
  {
   "cell_type": "code",
   "execution_count": null,
   "metadata": {},
   "outputs": [],
   "source": []
  },
  {
   "cell_type": "code",
   "execution_count": null,
   "metadata": {},
   "outputs": [],
   "source": []
  },
  {
   "cell_type": "code",
   "execution_count": null,
   "metadata": {},
   "outputs": [],
   "source": []
  }
 ],
 "metadata": {
  "kernelspec": {
   "display_name": "Python 3 (ipykernel)",
   "language": "python",
   "name": "python3"
  },
  "language_info": {
   "codemirror_mode": {
    "name": "ipython",
    "version": 3
   },
   "file_extension": ".py",
   "mimetype": "text/x-python",
   "name": "python",
   "nbconvert_exporter": "python",
   "pygments_lexer": "ipython3",
   "version": "3.11.5"
  }
 },
 "nbformat": 4,
 "nbformat_minor": 2
}
